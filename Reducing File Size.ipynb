{
 "cells": [
  {
   "cell_type": "code",
   "execution_count": 1,
   "metadata": {
    "collapsed": true
   },
   "outputs": [],
   "source": [
    "import pandas as pd\n",
    "import random\n",
    "import csv\n",
    "import pprint\n",
    "random.seed(10)"
   ]
  },
  {
   "cell_type": "code",
   "execution_count": 2,
   "metadata": {},
   "outputs": [
    {
     "name": "stderr",
     "output_type": "stream",
     "text": [
      "D:\\ProgramData\\Anaconda3\\lib\\site-packages\\IPython\\core\\interactiveshell.py:2717: DtypeWarning: Columns (15,16,17,21,22,23,24,25,26,30,31,36,37,45,65,123,155,156,157,158,159,160,161,162,163,164,165,166,167,168,169,170,171,284,285,286,287,288,289,290,291,292,293,294,295,296,297,298,299,300,301,302,303,307,308,309,310,311,312,313,314,315,316,317,318,319,320,321,322,323,324,325,326,327,328,329,330,331,332,333,334,335,336,337,338,339,340,341,342,343,344,345,346,347,348,349,350,351,352,353,354,355,356,357,376,377,378,379,380,381,382,383,384,385,386,387,388,389,390,391,392,393,394,395,396,397,398,399,400,401,402,403,475) have mixed types. Specify dtype option on import or set low_memory=False.\n",
      "  interactivity=interactivity, compiler=compiler, result=result)\n"
     ]
    }
   ],
   "source": [
    "# source: https://stackoverflow.com/questions/5552555/unicodedecodeerror-invalid-continuation-byte\n",
    "PISA_raw_df = pd.read_csv('pisa2012.csv', encoding = 'latin-1')"
   ]
  },
  {
   "cell_type": "markdown",
   "metadata": {},
   "source": [
    "#### Create test small sample file"
   ]
  },
  {
   "cell_type": "code",
   "execution_count": 21,
   "metadata": {
    "collapsed": true
   },
   "outputs": [],
   "source": [
    "PISA_1000th_df = PISA_raw_df.sample(round(len(PISA_raw_df)/1000));\n",
    "PISA_1000th_df.to_csv('pisa2012_1000th.csv', encoding = 'latin-1')"
   ]
  },
  {
   "cell_type": "markdown",
   "metadata": {},
   "source": [
    "#### Selecting needed columns"
   ]
  },
  {
   "cell_type": "code",
   "execution_count": 22,
   "metadata": {
    "collapsed": true
   },
   "outputs": [],
   "source": [
    "PISA_int_df = PISA_raw_df.loc[:,['STIDSTD','NC', 'OECD','ST04Q01',\n",
    "                                 'ST26Q01', 'ST26Q02', 'ST26Q03', 'ST26Q04',\n",
    "                                 'ST26Q05', 'ST26Q06', 'ST26Q07', 'ST26Q08', 'ST26Q09',\n",
    "                                 'ST26Q10', 'ST26Q11', 'ST26Q12', 'ST26Q13', 'ST26Q14',\n",
    "                                 'ST43Q03', \n",
    "                             'ST57Q01','ST57Q02','ST57Q03','ST57Q04','ST57Q05',\n",
    "                             'PV1MATH','PV2MATH','PV3MATH','PV4MATH','PV5MATH',\n",
    "                             'PV1READ','PV2READ','PV3READ','PV4READ','PV5READ',\n",
    "                             'PV1SCIE','PV2SCIE','PV3SCIE','PV4SCIE','PV5SCIE',\n",
    "                             'W_FSTUWT']]"
   ]
  },
  {
   "cell_type": "code",
   "execution_count": 21,
   "metadata": {},
   "outputs": [
    {
     "name": "stdout",
     "output_type": "stream",
     "text": [
      "<class 'pandas.core.frame.DataFrame'>\n",
      "RangeIndex: 485490 entries, 0 to 485489\n",
      "Data columns (total 40 columns):\n",
      "STIDSTD     485490 non-null int64\n",
      "NC          485490 non-null object\n",
      "OECD        485490 non-null object\n",
      "ST04Q01     485490 non-null object\n",
      "ST26Q01     473079 non-null object\n",
      "ST26Q02     469693 non-null object\n",
      "ST26Q03     472020 non-null object\n",
      "ST26Q04     473877 non-null object\n",
      "ST26Q05     463178 non-null object\n",
      "ST26Q06     473182 non-null object\n",
      "ST26Q07     465860 non-null object\n",
      "ST26Q08     467094 non-null object\n",
      "ST26Q09     467249 non-null object\n",
      "ST26Q10     471242 non-null object\n",
      "ST26Q11     463566 non-null object\n",
      "ST26Q12     474039 non-null object\n",
      "ST26Q13     469115 non-null object\n",
      "ST26Q14     474076 non-null object\n",
      "ST43Q03     313494 non-null object\n",
      "ST57Q01     301367 non-null float64\n",
      "ST57Q02     269808 non-null float64\n",
      "ST57Q03     283813 non-null float64\n",
      "ST57Q04     279657 non-null float64\n",
      "ST57Q05     289502 non-null float64\n",
      "PV1MATH     485490 non-null float64\n",
      "PV2MATH     485490 non-null float64\n",
      "PV3MATH     485490 non-null float64\n",
      "PV4MATH     485490 non-null float64\n",
      "PV5MATH     485490 non-null float64\n",
      "PV1READ     485490 non-null float64\n",
      "PV2READ     485490 non-null float64\n",
      "PV3READ     485490 non-null float64\n",
      "PV4READ     485490 non-null float64\n",
      "PV5READ     485490 non-null float64\n",
      "PV1SCIE     485490 non-null float64\n",
      "PV2SCIE     485490 non-null float64\n",
      "PV3SCIE     485490 non-null float64\n",
      "PV4SCIE     485490 non-null float64\n",
      "PV5SCIE     485490 non-null float64\n",
      "W_FSTUWT    485490 non-null float64\n",
      "dtypes: float64(21), int64(1), object(18)\n",
      "memory usage: 148.2+ MB\n"
     ]
    }
   ],
   "source": [
    "PISA_int_df.info()"
   ]
  },
  {
   "cell_type": "code",
   "execution_count": 23,
   "metadata": {
    "collapsed": true
   },
   "outputs": [],
   "source": [
    "# source: https://stackoverflow.com/questions/38313770/count-the-number-of-specific-values-in-a-pandas-dataframe\n",
    "# Create Number of Possession column\n",
    "PISA_int_df['Possessions'] = (PISA_int_df.iloc[:,3:16] == 'Yes').sum(axis=1)"
   ]
  },
  {
   "cell_type": "code",
   "execution_count": 5,
   "metadata": {},
   "outputs": [
    {
     "data": {
      "text/html": [
       "<div>\n",
       "<style>\n",
       "    .dataframe thead tr:only-child th {\n",
       "        text-align: right;\n",
       "    }\n",
       "\n",
       "    .dataframe thead th {\n",
       "        text-align: left;\n",
       "    }\n",
       "\n",
       "    .dataframe tbody tr th {\n",
       "        vertical-align: top;\n",
       "    }\n",
       "</style>\n",
       "<table border=\"1\" class=\"dataframe\">\n",
       "  <thead>\n",
       "    <tr style=\"text-align: right;\">\n",
       "      <th></th>\n",
       "      <th>STIDSTD</th>\n",
       "      <th>NC</th>\n",
       "      <th>OECD</th>\n",
       "      <th>ST04Q01</th>\n",
       "      <th>ST26Q01</th>\n",
       "      <th>ST26Q02</th>\n",
       "      <th>ST26Q03</th>\n",
       "      <th>ST26Q04</th>\n",
       "      <th>ST26Q05</th>\n",
       "      <th>ST26Q06</th>\n",
       "      <th>...</th>\n",
       "      <th>PV3READ</th>\n",
       "      <th>PV4READ</th>\n",
       "      <th>PV5READ</th>\n",
       "      <th>PV1SCIE</th>\n",
       "      <th>PV2SCIE</th>\n",
       "      <th>PV3SCIE</th>\n",
       "      <th>PV4SCIE</th>\n",
       "      <th>PV5SCIE</th>\n",
       "      <th>W_FSTUWT</th>\n",
       "      <th>Possessions</th>\n",
       "    </tr>\n",
       "  </thead>\n",
       "  <tbody>\n",
       "    <tr>\n",
       "      <th>0</th>\n",
       "      <td>1</td>\n",
       "      <td>Albania</td>\n",
       "      <td>Non-OECD</td>\n",
       "      <td>Female</td>\n",
       "      <td>Yes</td>\n",
       "      <td>No</td>\n",
       "      <td>Yes</td>\n",
       "      <td>No</td>\n",
       "      <td>No</td>\n",
       "      <td>No</td>\n",
       "      <td>...</td>\n",
       "      <td>406.8496</td>\n",
       "      <td>175.7053</td>\n",
       "      <td>218.5981</td>\n",
       "      <td>341.7009</td>\n",
       "      <td>408.8400</td>\n",
       "      <td>348.2283</td>\n",
       "      <td>367.8105</td>\n",
       "      <td>392.9877</td>\n",
       "      <td>8.9096</td>\n",
       "      <td>5</td>\n",
       "    </tr>\n",
       "    <tr>\n",
       "      <th>1</th>\n",
       "      <td>2</td>\n",
       "      <td>Albania</td>\n",
       "      <td>Non-OECD</td>\n",
       "      <td>Female</td>\n",
       "      <td>Yes</td>\n",
       "      <td>Yes</td>\n",
       "      <td>Yes</td>\n",
       "      <td>Yes</td>\n",
       "      <td>Yes</td>\n",
       "      <td>Yes</td>\n",
       "      <td>...</td>\n",
       "      <td>400.7334</td>\n",
       "      <td>369.7553</td>\n",
       "      <td>396.7618</td>\n",
       "      <td>548.9929</td>\n",
       "      <td>471.5964</td>\n",
       "      <td>471.5964</td>\n",
       "      <td>443.6218</td>\n",
       "      <td>454.8116</td>\n",
       "      <td>8.9096</td>\n",
       "      <td>12</td>\n",
       "    </tr>\n",
       "    <tr>\n",
       "      <th>2</th>\n",
       "      <td>3</td>\n",
       "      <td>Albania</td>\n",
       "      <td>Non-OECD</td>\n",
       "      <td>Female</td>\n",
       "      <td>Yes</td>\n",
       "      <td>Yes</td>\n",
       "      <td>Yes</td>\n",
       "      <td>Yes</td>\n",
       "      <td>No</td>\n",
       "      <td>Yes</td>\n",
       "      <td>...</td>\n",
       "      <td>387.7067</td>\n",
       "      <td>431.3938</td>\n",
       "      <td>401.2100</td>\n",
       "      <td>499.6643</td>\n",
       "      <td>428.7952</td>\n",
       "      <td>492.2044</td>\n",
       "      <td>512.7191</td>\n",
       "      <td>499.6643</td>\n",
       "      <td>8.4871</td>\n",
       "      <td>10</td>\n",
       "    </tr>\n",
       "    <tr>\n",
       "      <th>3</th>\n",
       "      <td>4</td>\n",
       "      <td>Albania</td>\n",
       "      <td>Non-OECD</td>\n",
       "      <td>Female</td>\n",
       "      <td>Yes</td>\n",
       "      <td>Yes</td>\n",
       "      <td>Yes</td>\n",
       "      <td>Yes</td>\n",
       "      <td>Yes</td>\n",
       "      <td>Yes</td>\n",
       "      <td>...</td>\n",
       "      <td>461.5776</td>\n",
       "      <td>425.0393</td>\n",
       "      <td>471.9036</td>\n",
       "      <td>438.6796</td>\n",
       "      <td>481.5740</td>\n",
       "      <td>448.9370</td>\n",
       "      <td>474.1141</td>\n",
       "      <td>426.5573</td>\n",
       "      <td>8.4871</td>\n",
       "      <td>11</td>\n",
       "    </tr>\n",
       "    <tr>\n",
       "      <th>4</th>\n",
       "      <td>5</td>\n",
       "      <td>Albania</td>\n",
       "      <td>Non-OECD</td>\n",
       "      <td>Female</td>\n",
       "      <td>Yes</td>\n",
       "      <td>Yes</td>\n",
       "      <td>No</td>\n",
       "      <td>Yes</td>\n",
       "      <td>Yes</td>\n",
       "      <td>Yes</td>\n",
       "      <td>...</td>\n",
       "      <td>293.5015</td>\n",
       "      <td>272.8495</td>\n",
       "      <td>260.1405</td>\n",
       "      <td>361.5628</td>\n",
       "      <td>275.7740</td>\n",
       "      <td>372.7527</td>\n",
       "      <td>403.5248</td>\n",
       "      <td>422.1746</td>\n",
       "      <td>8.4871</td>\n",
       "      <td>10</td>\n",
       "    </tr>\n",
       "  </tbody>\n",
       "</table>\n",
       "<p>5 rows × 41 columns</p>\n",
       "</div>"
      ],
      "text/plain": [
       "   STIDSTD       NC      OECD ST04Q01 ST26Q01 ST26Q02 ST26Q03 ST26Q04 ST26Q05  \\\n",
       "0        1  Albania  Non-OECD  Female     Yes      No     Yes      No      No   \n",
       "1        2  Albania  Non-OECD  Female     Yes     Yes     Yes     Yes     Yes   \n",
       "2        3  Albania  Non-OECD  Female     Yes     Yes     Yes     Yes      No   \n",
       "3        4  Albania  Non-OECD  Female     Yes     Yes     Yes     Yes     Yes   \n",
       "4        5  Albania  Non-OECD  Female     Yes     Yes      No     Yes     Yes   \n",
       "\n",
       "  ST26Q06     ...        PV3READ   PV4READ   PV5READ   PV1SCIE   PV2SCIE  \\\n",
       "0      No     ...       406.8496  175.7053  218.5981  341.7009  408.8400   \n",
       "1     Yes     ...       400.7334  369.7553  396.7618  548.9929  471.5964   \n",
       "2     Yes     ...       387.7067  431.3938  401.2100  499.6643  428.7952   \n",
       "3     Yes     ...       461.5776  425.0393  471.9036  438.6796  481.5740   \n",
       "4     Yes     ...       293.5015  272.8495  260.1405  361.5628  275.7740   \n",
       "\n",
       "    PV3SCIE   PV4SCIE   PV5SCIE W_FSTUWT  Possessions  \n",
       "0  348.2283  367.8105  392.9877   8.9096            5  \n",
       "1  471.5964  443.6218  454.8116   8.9096           12  \n",
       "2  492.2044  512.7191  499.6643   8.4871           10  \n",
       "3  448.9370  474.1141  426.5573   8.4871           11  \n",
       "4  372.7527  403.5248  422.1746   8.4871           10  \n",
       "\n",
       "[5 rows x 41 columns]"
      ]
     },
     "execution_count": 5,
     "metadata": {},
     "output_type": "execute_result"
    }
   ],
   "source": [
    "PISA_int_df.head()"
   ]
  },
  {
   "cell_type": "code",
   "execution_count": 24,
   "metadata": {},
   "outputs": [
    {
     "name": "stderr",
     "output_type": "stream",
     "text": [
      "D:\\ProgramData\\Anaconda3\\lib\\site-packages\\ipykernel_launcher.py:1: SettingWithCopyWarning: \n",
      "A value is trying to be set on a copy of a slice from a DataFrame\n",
      "\n",
      "See the caveats in the documentation: http://pandas.pydata.org/pandas-docs/stable/indexing.html#indexing-view-versus-copy\n",
      "  \"\"\"Entry point for launching an IPython kernel.\n",
      "D:\\ProgramData\\Anaconda3\\lib\\site-packages\\ipykernel_launcher.py:2: SettingWithCopyWarning: \n",
      "A value is trying to be set on a copy of a slice from a DataFrame\n",
      "\n",
      "See the caveats in the documentation: http://pandas.pydata.org/pandas-docs/stable/indexing.html#indexing-view-versus-copy\n",
      "  \n",
      "D:\\ProgramData\\Anaconda3\\lib\\site-packages\\ipykernel_launcher.py:3: SettingWithCopyWarning: \n",
      "A value is trying to be set on a copy of a slice from a DataFrame\n",
      "\n",
      "See the caveats in the documentation: http://pandas.pydata.org/pandas-docs/stable/indexing.html#indexing-view-versus-copy\n",
      "  This is separate from the ipykernel package so we can avoid doing imports until\n",
      "D:\\ProgramData\\Anaconda3\\lib\\site-packages\\ipykernel_launcher.py:4: SettingWithCopyWarning: \n",
      "A value is trying to be set on a copy of a slice from a DataFrame\n",
      "\n",
      "See the caveats in the documentation: http://pandas.pydata.org/pandas-docs/stable/indexing.html#indexing-view-versus-copy\n",
      "  after removing the cwd from sys.path.\n",
      "D:\\ProgramData\\Anaconda3\\lib\\site-packages\\ipykernel_launcher.py:5: SettingWithCopyWarning: \n",
      "A value is trying to be set on a copy of a slice from a DataFrame\n",
      "\n",
      "See the caveats in the documentation: http://pandas.pydata.org/pandas-docs/stable/indexing.html#indexing-view-versus-copy\n",
      "  \"\"\"\n",
      "D:\\ProgramData\\Anaconda3\\lib\\site-packages\\ipykernel_launcher.py:6: SettingWithCopyWarning: \n",
      "A value is trying to be set on a copy of a slice from a DataFrame\n",
      "\n",
      "See the caveats in the documentation: http://pandas.pydata.org/pandas-docs/stable/indexing.html#indexing-view-versus-copy\n",
      "  \n",
      "D:\\ProgramData\\Anaconda3\\lib\\site-packages\\ipykernel_launcher.py:7: SettingWithCopyWarning: \n",
      "A value is trying to be set on a copy of a slice from a DataFrame\n",
      "\n",
      "See the caveats in the documentation: http://pandas.pydata.org/pandas-docs/stable/indexing.html#indexing-view-versus-copy\n",
      "  import sys\n",
      "D:\\ProgramData\\Anaconda3\\lib\\site-packages\\ipykernel_launcher.py:8: SettingWithCopyWarning: \n",
      "A value is trying to be set on a copy of a slice from a DataFrame\n",
      "\n",
      "See the caveats in the documentation: http://pandas.pydata.org/pandas-docs/stable/indexing.html#indexing-view-versus-copy\n",
      "  \n",
      "D:\\ProgramData\\Anaconda3\\lib\\site-packages\\ipykernel_launcher.py:9: SettingWithCopyWarning: \n",
      "A value is trying to be set on a copy of a slice from a DataFrame\n",
      "\n",
      "See the caveats in the documentation: http://pandas.pydata.org/pandas-docs/stable/indexing.html#indexing-view-versus-copy\n",
      "  if __name__ == '__main__':\n",
      "D:\\ProgramData\\Anaconda3\\lib\\site-packages\\ipykernel_launcher.py:10: SettingWithCopyWarning: \n",
      "A value is trying to be set on a copy of a slice from a DataFrame\n",
      "\n",
      "See the caveats in the documentation: http://pandas.pydata.org/pandas-docs/stable/indexing.html#indexing-view-versus-copy\n",
      "  # Remove the CWD from sys.path while we load stuff.\n",
      "D:\\ProgramData\\Anaconda3\\lib\\site-packages\\ipykernel_launcher.py:11: SettingWithCopyWarning: \n",
      "A value is trying to be set on a copy of a slice from a DataFrame\n",
      "\n",
      "See the caveats in the documentation: http://pandas.pydata.org/pandas-docs/stable/indexing.html#indexing-view-versus-copy\n",
      "  # This is added back by InteractiveShellApp.init_path()\n"
     ]
    }
   ],
   "source": [
    "PISA_int_df['NC'][PISA_int_df['NC']=='Republic of Serbia'] = 'Serbia'\n",
    "PISA_int_df['NC'][PISA_int_df['NC']=='Slovak Republic'] = 'Slovakia'\n",
    "PISA_int_df['NC'][PISA_int_df['NC']=='Chinese Taipei '] = 'Taiwan'\n",
    "PISA_int_df['NC'][PISA_int_df['NC']=='Perm (Russian Federation)'] = 'Russia'\n",
    "PISA_int_df['NC'][PISA_int_df['NC']=='Hong Kong-China'] = 'China'\n",
    "PISA_int_df['NC'][PISA_int_df['NC']=='China (Shanghai) '] = 'China'\n",
    "PISA_int_df['NC'][PISA_int_df['NC']=='China-Macau'] = 'China'\n",
    "PISA_int_df['NC'][PISA_int_df['NC']=='Macao-China'] = 'China'\n",
    "PISA_int_df['NC'][PISA_int_df['NC']=='Connecticut (USA)'] = 'United States of America'\n",
    "PISA_int_df['NC'][PISA_int_df['NC']=='Florida (USA)'] = 'United States of America'\n",
    "PISA_int_df['NC'][PISA_int_df['NC']=='Massachusetts (USA)'] = 'United States of America'\n"
   ]
  },
  {
   "cell_type": "code",
   "execution_count": 34,
   "metadata": {},
   "outputs": [
    {
     "name": "stderr",
     "output_type": "stream",
     "text": [
      "D:\\ProgramData\\Anaconda3\\lib\\site-packages\\ipykernel_launcher.py:1: SettingWithCopyWarning: \n",
      "A value is trying to be set on a copy of a slice from a DataFrame\n",
      "\n",
      "See the caveats in the documentation: http://pandas.pydata.org/pandas-docs/stable/indexing.html#indexing-view-versus-copy\n",
      "  \"\"\"Entry point for launching an IPython kernel.\n"
     ]
    }
   ],
   "source": [
    "PISA_int_df['OECD'][PISA_int_df['NC']=='United States of America '] = 'OECD'"
   ]
  },
  {
   "cell_type": "code",
   "execution_count": 35,
   "metadata": {},
   "outputs": [
    {
     "data": {
      "text/html": [
       "<div>\n",
       "<style>\n",
       "    .dataframe thead tr:only-child th {\n",
       "        text-align: right;\n",
       "    }\n",
       "\n",
       "    .dataframe thead th {\n",
       "        text-align: left;\n",
       "    }\n",
       "\n",
       "    .dataframe tbody tr th {\n",
       "        vertical-align: top;\n",
       "    }\n",
       "</style>\n",
       "<table border=\"1\" class=\"dataframe\">\n",
       "  <thead>\n",
       "    <tr style=\"text-align: right;\">\n",
       "      <th></th>\n",
       "      <th>STIDSTD</th>\n",
       "      <th>NC</th>\n",
       "      <th>OECD</th>\n",
       "      <th>ST04Q01</th>\n",
       "      <th>ST26Q01</th>\n",
       "      <th>ST26Q02</th>\n",
       "      <th>ST26Q03</th>\n",
       "      <th>ST26Q04</th>\n",
       "      <th>ST26Q05</th>\n",
       "      <th>ST26Q06</th>\n",
       "      <th>...</th>\n",
       "      <th>PV3READ</th>\n",
       "      <th>PV4READ</th>\n",
       "      <th>PV5READ</th>\n",
       "      <th>PV1SCIE</th>\n",
       "      <th>PV2SCIE</th>\n",
       "      <th>PV3SCIE</th>\n",
       "      <th>PV4SCIE</th>\n",
       "      <th>PV5SCIE</th>\n",
       "      <th>W_FSTUWT</th>\n",
       "      <th>Possessions</th>\n",
       "    </tr>\n",
       "  </thead>\n",
       "  <tbody>\n",
       "    <tr>\n",
       "      <th>407216</th>\n",
       "      <td>62</td>\n",
       "      <td>United States of America</td>\n",
       "      <td>OECD</td>\n",
       "      <td>Female</td>\n",
       "      <td>NaN</td>\n",
       "      <td>NaN</td>\n",
       "      <td>NaN</td>\n",
       "      <td>NaN</td>\n",
       "      <td>NaN</td>\n",
       "      <td>NaN</td>\n",
       "      <td>...</td>\n",
       "      <td>414.6338</td>\n",
       "      <td>364.5923</td>\n",
       "      <td>374.9183</td>\n",
       "      <td>452.8534</td>\n",
       "      <td>436.0686</td>\n",
       "      <td>452.8534</td>\n",
       "      <td>429.5412</td>\n",
       "      <td>460.3133</td>\n",
       "      <td>121.6681</td>\n",
       "      <td>0</td>\n",
       "    </tr>\n",
       "  </tbody>\n",
       "</table>\n",
       "<p>1 rows × 41 columns</p>\n",
       "</div>"
      ],
      "text/plain": [
       "        STIDSTD                         NC  OECD ST04Q01 ST26Q01 ST26Q02  \\\n",
       "407216       62  United States of America   OECD  Female     NaN     NaN   \n",
       "\n",
       "       ST26Q03 ST26Q04 ST26Q05 ST26Q06     ...        PV3READ   PV4READ  \\\n",
       "407216     NaN     NaN     NaN     NaN     ...       414.6338  364.5923   \n",
       "\n",
       "         PV5READ   PV1SCIE   PV2SCIE   PV3SCIE   PV4SCIE   PV5SCIE  W_FSTUWT  \\\n",
       "407216  374.9183  452.8534  436.0686  452.8534  429.5412  460.3133  121.6681   \n",
       "\n",
       "        Possessions  \n",
       "407216            0  \n",
       "\n",
       "[1 rows x 41 columns]"
      ]
     },
     "execution_count": 35,
     "metadata": {},
     "output_type": "execute_result"
    }
   ],
   "source": [
    "PISA_int_df[PISA_int_df.index==407216]"
   ]
  },
  {
   "cell_type": "code",
   "execution_count": 36,
   "metadata": {
    "collapsed": true
   },
   "outputs": [],
   "source": [
    "PISA_int_df = PISA_int_df.rename(columns={'NC':'Country','ST04Q01':'Gender',\n",
    "                                          'ST26Q02':'Own Room','ST43Q03':'Family Demands and Problems'});"
   ]
  },
  {
   "cell_type": "code",
   "execution_count": 37,
   "metadata": {},
   "outputs": [
    {
     "name": "stdout",
     "output_type": "stream",
     "text": [
      "<class 'pandas.core.frame.DataFrame'>\n",
      "RangeIndex: 485490 entries, 0 to 485489\n",
      "Data columns (total 41 columns):\n",
      "STIDSTD                        485490 non-null int64\n",
      "Country                        485490 non-null object\n",
      "OECD                           485490 non-null object\n",
      "Gender                         485490 non-null object\n",
      "ST26Q01                        473079 non-null object\n",
      "Own Room                       469693 non-null object\n",
      "ST26Q03                        472020 non-null object\n",
      "ST26Q04                        473877 non-null object\n",
      "ST26Q05                        463178 non-null object\n",
      "ST26Q06                        473182 non-null object\n",
      "ST26Q07                        465860 non-null object\n",
      "ST26Q08                        467094 non-null object\n",
      "ST26Q09                        467249 non-null object\n",
      "ST26Q10                        471242 non-null object\n",
      "ST26Q11                        463566 non-null object\n",
      "ST26Q12                        474039 non-null object\n",
      "ST26Q13                        469115 non-null object\n",
      "ST26Q14                        474076 non-null object\n",
      "Family Demands and Problems    313494 non-null object\n",
      "ST57Q01                        301367 non-null float64\n",
      "ST57Q02                        269808 non-null float64\n",
      "ST57Q03                        283813 non-null float64\n",
      "ST57Q04                        279657 non-null float64\n",
      "ST57Q05                        289502 non-null float64\n",
      "PV1MATH                        485490 non-null float64\n",
      "PV2MATH                        485490 non-null float64\n",
      "PV3MATH                        485490 non-null float64\n",
      "PV4MATH                        485490 non-null float64\n",
      "PV5MATH                        485490 non-null float64\n",
      "PV1READ                        485490 non-null float64\n",
      "PV2READ                        485490 non-null float64\n",
      "PV3READ                        485490 non-null float64\n",
      "PV4READ                        485490 non-null float64\n",
      "PV5READ                        485490 non-null float64\n",
      "PV1SCIE                        485490 non-null float64\n",
      "PV2SCIE                        485490 non-null float64\n",
      "PV3SCIE                        485490 non-null float64\n",
      "PV4SCIE                        485490 non-null float64\n",
      "PV5SCIE                        485490 non-null float64\n",
      "W_FSTUWT                       485490 non-null float64\n",
      "Possessions                    485490 non-null int64\n",
      "dtypes: float64(21), int64(2), object(18)\n",
      "memory usage: 151.9+ MB\n"
     ]
    }
   ],
   "source": [
    "PISA_int_df.info()"
   ]
  },
  {
   "cell_type": "code",
   "execution_count": 38,
   "metadata": {
    "collapsed": true
   },
   "outputs": [],
   "source": [
    "PISA_int_df['Study Time'] = (PISA_int_df['ST57Q01'] + PISA_int_df['ST57Q02'] +\n",
    "                             PISA_int_df['ST57Q03'] + PISA_int_df['ST57Q04'] + PISA_int_df['ST57Q05'])"
   ]
  },
  {
   "cell_type": "code",
   "execution_count": 39,
   "metadata": {
    "collapsed": true
   },
   "outputs": [],
   "source": [
    "PISA_int_df['MathAvg'] = (PISA_int_df['PV1MATH'] + PISA_int_df['PV2MATH']+ \n",
    "                          PISA_int_df['PV3MATH'] + PISA_int_df['PV4MATH'] + PISA_int_df['PV5MATH'])/5\n",
    "PISA_int_df['ReadAvg'] = (PISA_int_df['PV1READ'] + PISA_int_df['PV2READ']+ \n",
    "                          PISA_int_df['PV3READ'] + PISA_int_df['PV4READ'] + PISA_int_df['PV5READ'])/5\n",
    "PISA_int_df['ScieAvg'] = (PISA_int_df['PV1SCIE'] + PISA_int_df['PV2SCIE']+ \n",
    "                          PISA_int_df['PV3SCIE'] + PISA_int_df['PV4SCIE'] + PISA_int_df['PV5SCIE'])/5"
   ]
  },
  {
   "cell_type": "code",
   "execution_count": 40,
   "metadata": {
    "collapsed": true
   },
   "outputs": [],
   "source": [
    "PISA_df = PISA_int_df.loc[:,['STIDSTD','Country', 'OECD', 'Gender','Own Room', 'Possessions', 'Family Demands and Problems',\n",
    "                            'Study Time', 'MathAvg', 'ReadAvg', 'ScieAvg',  'W_FSTUWT']]"
   ]
  },
  {
   "cell_type": "code",
   "execution_count": 41,
   "metadata": {
    "collapsed": true
   },
   "outputs": [],
   "source": [
    "PISA_int_df.to_csv('PISA2012_int_processed.csv')\n",
    "PISA_df.to_csv('PISA2012_processed.csv')"
   ]
  },
  {
   "cell_type": "markdown",
   "metadata": {},
   "source": [
    "#### Drop NA"
   ]
  },
  {
   "cell_type": "code",
   "execution_count": 52,
   "metadata": {
    "collapsed": true
   },
   "outputs": [],
   "source": [
    "PISA_NA_df = PISA_df.dropna()"
   ]
  },
  {
   "cell_type": "code",
   "execution_count": 53,
   "metadata": {},
   "outputs": [
    {
     "name": "stdout",
     "output_type": "stream",
     "text": [
      "<class 'pandas.core.frame.DataFrame'>\n",
      "Int64Index: 118532 entries, 13 to 485482\n",
      "Data columns (total 10 columns):\n",
      "STIDSTD                        118532 non-null int64\n",
      "Country                        118532 non-null object\n",
      "Gender                         118532 non-null object\n",
      "Own Room                       118532 non-null object\n",
      "Family Demands and Problems    118532 non-null object\n",
      "Study Time                     118532 non-null float64\n",
      "MathAvg                        118532 non-null float64\n",
      "ReadAvg                        118532 non-null float64\n",
      "ScieAvg                        118532 non-null float64\n",
      "W_FSTUWT                       118532 non-null float64\n",
      "dtypes: float64(5), int64(1), object(4)\n",
      "memory usage: 9.9+ MB\n"
     ]
    }
   ],
   "source": [
    "PISA_NA_df.info()"
   ]
  },
  {
   "cell_type": "code",
   "execution_count": 54,
   "metadata": {
    "collapsed": true
   },
   "outputs": [],
   "source": [
    "PISA_NA_df.to_csv('PISA2012_dropna_processed.csv')"
   ]
  }
 ],
 "metadata": {
  "kernelspec": {
   "display_name": "Python 3",
   "language": "python",
   "name": "python3"
  },
  "language_info": {
   "codemirror_mode": {
    "name": "ipython",
    "version": 3
   },
   "file_extension": ".py",
   "mimetype": "text/x-python",
   "name": "python",
   "nbconvert_exporter": "python",
   "pygments_lexer": "ipython3",
   "version": "3.6.1"
  }
 },
 "nbformat": 4,
 "nbformat_minor": 2
}
